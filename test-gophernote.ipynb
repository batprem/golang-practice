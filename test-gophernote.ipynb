{
 "cells": [
  {
   "cell_type": "code",
   "execution_count": 2,
   "id": "cc215189",
   "metadata": {},
   "outputs": [],
   "source": [
    "x:=1"
   ]
  },
  {
   "cell_type": "code",
   "execution_count": 5,
   "id": "b8999e37",
   "metadata": {},
   "outputs": [],
   "source": [
    "import (\"fmt\")"
   ]
  },
  {
   "cell_type": "code",
   "execution_count": 8,
   "id": "dabbc82b",
   "metadata": {},
   "outputs": [
    {
     "name": "stdout",
     "output_type": "stream",
     "text": [
      "// warning: expression returns 2 values, using only the first one: [int error]\n",
      "test\n"
     ]
    }
   ],
   "source": [
    "x := fmt.Println(\"test\")"
   ]
  },
  {
   "cell_type": "code",
   "execution_count": 7,
   "id": "a910ea5e",
   "metadata": {},
   "outputs": [
    {
     "name": "stdout",
     "output_type": "stream",
     "text": [
      "hello\n",
      "world\n",
      "world\n",
      "hello\n",
      "world\n",
      "hello\n",
      "world\n",
      "hello\n",
      "hello\n"
     ]
    }
   ],
   "source": [
    "package main\n",
    "\n",
    "import (\n",
    "\t\"fmt\"\n",
    "\t\"time\"\n",
    ")\n",
    "\n",
    "func say(s string) {\n",
    "\tfor i := 0; i < 5; i++ {\n",
    "\t\ttime.Sleep(100 * time.Millisecond)\n",
    "\t\tfmt.Println(s)\n",
    "\t}\n",
    "}\n",
    "\n",
    "func main() {\n",
    "\tgo say(\"world\")\n",
    "\tsay(\"hello\")\n",
    "}\n",
    "main()"
   ]
  },
  {
   "cell_type": "code",
   "execution_count": null,
   "id": "f67d285c",
   "metadata": {},
   "outputs": [],
   "source": [
    "import (\"fmt\",)"
   ]
  },
  {
   "cell_type": "code",
   "execution_count": 2,
   "id": "7a76c8e8",
   "metadata": {},
   "outputs": [
    {
     "ename": "ERROR",
     "evalue": "repl.go:9:5: undefined \"fmt\" in fmt.Println <*ast.SelectorExpr>",
     "output_type": "error",
     "traceback": [
      "repl.go:9:5: undefined \"fmt\" in fmt.Println <*ast.SelectorExpr>"
     ]
    }
   ],
   "source": [
    "\n",
    "import (\n",
    "\"github.com/batprem/golang-practice/woosha\"\n",
    "    \"fmt\"\n",
    "    \n",
    ")\n",
    "\n",
    "func main() {\n",
    "    fmt.Println(woosah.Greet2())\n",
    "}\n",
    "\n",
    "main()"
   ]
  },
  {
   "cell_type": "code",
   "execution_count": 7,
   "id": "1ebcdd09",
   "metadata": {},
   "outputs": [
    {
     "ename": "ERROR",
     "evalue": "unknown special command: \"%bash\"\n\navailable special commands (%):\n%cd [path]\n%go111module {on|off}\n%help\n\nexecute shell commands ($): $command [args...]\nexample:\n$ls -l\n",
     "output_type": "error",
     "traceback": [
      "unknown special command: \"%bash\"\n\navailable special commands (%):\n%cd [path]\n%go111module {on|off}\n%help\n\nexecute shell commands ($): $command [args...]\nexample:\n$ls -l\n"
     ]
    }
   ],
   "source": [
    "%bash\n",
    "!echo $GOPATH/src"
   ]
  }
 ],
 "metadata": {
  "kernelspec": {
   "display_name": "Go",
   "language": "go",
   "name": "gophernotes"
  },
  "language_info": {
   "codemirror_mode": "",
   "file_extension": ".go",
   "mimetype": "",
   "name": "go",
   "nbconvert_exporter": "",
   "pygments_lexer": "",
   "version": "go1.18.3"
  }
 },
 "nbformat": 4,
 "nbformat_minor": 5
}
